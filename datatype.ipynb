{
 "cells": [
  {
   "cell_type": "code",
   "execution_count": 1,
   "id": "9bd80ff7-5da9-4d06-a276-dddd910fcc97",
   "metadata": {},
   "outputs": [
    {
     "name": "stdout",
     "output_type": "stream",
     "text": [
      "mrunmai\n"
     ]
    },
    {
     "data": {
      "text/plain": [
       "str"
      ]
     },
     "execution_count": 1,
     "metadata": {},
     "output_type": "execute_result"
    }
   ],
   "source": [
    "#datatype is the type of data used in the program\n",
    "#python automatically recognises the datatype\n",
    "#user need not to define the dataype in python\n",
    "#python do not have char datatype\n",
    "#python have string in the place of char and works on behalf of both char and string\n",
    "#int for integers\n",
    "#string for characters\n",
    "#in string \"\" or '' both are acceptable\n",
    "#float for decimal containing numbers\n",
    "#boolean for true and false statements\n",
    "#complex is for complex numbers\n",
    "#in python j is used in place of i(iota) for eg: 12+3j\n",
    "\n",
    "a=\"mrunmai\"\n",
    "print(a)\n",
    "type(a)\n",
    "#type() is used to show the datatype of defined variable\n"
   ]
  },
  {
   "cell_type": "code",
   "execution_count": 2,
   "id": "153a1e32-c222-4022-90c0-a72c3017c891",
   "metadata": {},
   "outputs": [
    {
     "name": "stdout",
     "output_type": "stream",
     "text": [
      "24 hello world 34\n"
     ]
    }
   ],
   "source": [
    "b='hello world'\n",
    "a=\"24\"\n",
    "c='34'\n",
    "print(a,b,c)"
   ]
  },
  {
   "cell_type": "code",
   "execution_count": 7,
   "id": "7539a559-036f-4093-a3cf-5a302127e2f7",
   "metadata": {},
   "outputs": [
    {
     "name": "stdout",
     "output_type": "stream",
     "text": [
      "24 hello world 34\n"
     ]
    },
    {
     "data": {
      "text/plain": [
       "str"
      ]
     },
     "execution_count": 7,
     "metadata": {},
     "output_type": "execute_result"
    }
   ],
   "source": [
    "b='hello world'\n",
    "a=\"24\"\n",
    "c='34'\n",
    "print(a,b,c)\n",
    "type(a)\n",
    "type(b)\n",
    "type(c)"
   ]
  },
  {
   "cell_type": "code",
   "execution_count": 9,
   "id": "a05738a0-f55a-4855-b737-9b490c1eb005",
   "metadata": {},
   "outputs": [
    {
     "ename": "NameError",
     "evalue": "name 'mrunmai' is not defined",
     "output_type": "error",
     "traceback": [
      "\u001b[1;31m---------------------------------------------------------------------------\u001b[0m",
      "\u001b[1;31mNameError\u001b[0m                                 Traceback (most recent call last)",
      "Cell \u001b[1;32mIn[9], line 1\u001b[0m\n\u001b[1;32m----> 1\u001b[0m d\u001b[38;5;241m=\u001b[39mmrunmai\n\u001b[0;32m      2\u001b[0m \u001b[38;5;28mprint\u001b[39m(d)\n",
      "\u001b[1;31mNameError\u001b[0m: name 'mrunmai' is not defined"
     ]
    }
   ],
   "source": [
    "d=mrunmai\n",
    "print(d)"
   ]
  },
  {
   "cell_type": "code",
   "execution_count": 10,
   "id": "0e6d6fd8-6898-4bb0-95a8-c7cdb603d9ee",
   "metadata": {},
   "outputs": [
    {
     "ename": "SyntaxError",
     "evalue": "unterminated string literal (detected at line 1) (1520367758.py, line 1)",
     "output_type": "error",
     "traceback": [
      "\u001b[1;36m  Cell \u001b[1;32mIn[10], line 1\u001b[1;36m\u001b[0m\n\u001b[1;33m    d='mrunmai's'\u001b[0m\n\u001b[1;37m                ^\u001b[0m\n\u001b[1;31mSyntaxError\u001b[0m\u001b[1;31m:\u001b[0m unterminated string literal (detected at line 1)\n"
     ]
    }
   ],
   "source": [
    "d='mrunmai's'\n",
    "print(d)\n",
    "type(d)"
   ]
  },
  {
   "cell_type": "code",
   "execution_count": 11,
   "id": "e7abd505-9925-4fdf-828b-7ac9e545c40d",
   "metadata": {},
   "outputs": [
    {
     "name": "stdout",
     "output_type": "stream",
     "text": [
      "mrunmai's\n"
     ]
    },
    {
     "data": {
      "text/plain": [
       "str"
      ]
     },
     "execution_count": 11,
     "metadata": {},
     "output_type": "execute_result"
    }
   ],
   "source": [
    "p=\"mrunmai's\"\n",
    "print(p)\n",
    "type(p)"
   ]
  },
  {
   "cell_type": "code",
   "execution_count": 12,
   "id": "2e310e3a-f595-48a0-8e6a-4136598466ba",
   "metadata": {},
   "outputs": [
    {
     "name": "stdout",
     "output_type": "stream",
     "text": [
      "56\n"
     ]
    },
    {
     "data": {
      "text/plain": [
       "int"
      ]
     },
     "execution_count": 12,
     "metadata": {},
     "output_type": "execute_result"
    }
   ],
   "source": [
    "r=56\n",
    "print(r)\n",
    "type(r)"
   ]
  },
  {
   "cell_type": "code",
   "execution_count": 14,
   "id": "290e656b-6641-4e83-a198-4553f778ef30",
   "metadata": {},
   "outputs": [
    {
     "name": "stdout",
     "output_type": "stream",
     "text": [
      "56.0\n"
     ]
    },
    {
     "data": {
      "text/plain": [
       "float"
      ]
     },
     "execution_count": 14,
     "metadata": {},
     "output_type": "execute_result"
    }
   ],
   "source": [
    "r=56.00\n",
    "print(r)\n",
    "type(r)"
   ]
  },
  {
   "cell_type": "code",
   "execution_count": 18,
   "id": "003074c1-4a22-45b5-9be9-be4832135042",
   "metadata": {},
   "outputs": [
    {
     "name": "stdout",
     "output_type": "stream",
     "text": [
      "(45+5j)\n"
     ]
    },
    {
     "data": {
      "text/plain": [
       "complex"
      ]
     },
     "execution_count": 18,
     "metadata": {},
     "output_type": "execute_result"
    }
   ],
   "source": [
    "com=5j+45\n",
    "print(com)\n",
    "type(com)\n",
    "\n"
   ]
  },
  {
   "cell_type": "code",
   "execution_count": 19,
   "id": "e66162c2-536c-4e48-bac3-4b0251389cb9",
   "metadata": {},
   "outputs": [
    {
     "name": "stdout",
     "output_type": "stream",
     "text": [
      "(23, 'geeta', 45)\n"
     ]
    },
    {
     "data": {
      "text/plain": [
       "tuple"
      ]
     },
     "execution_count": 19,
     "metadata": {},
     "output_type": "execute_result"
    }
   ],
   "source": [
    "a=23,\"geeta\",45\n",
    "print(a)\n",
    "type(a)\n"
   ]
  },
  {
   "cell_type": "code",
   "execution_count": 27,
   "id": "cde55b5c-a5c0-4b20-a39e-2d7df1684b21",
   "metadata": {},
   "outputs": [
    {
     "name": "stdout",
     "output_type": "stream",
     "text": [
      "23\n",
      "False\n"
     ]
    },
    {
     "data": {
      "text/plain": [
       "bool"
      ]
     },
     "execution_count": 27,
     "metadata": {},
     "output_type": "execute_result"
    }
   ],
   "source": [
    "x=23\n",
    "y=False\n",
    "print(x)\n",
    "print(y)\n",
    "type(y)"
   ]
  },
  {
   "cell_type": "code",
   "execution_count": 25,
   "id": "fc9c598e-4238-40c2-b7c4-3bc11b60c033",
   "metadata": {},
   "outputs": [],
   "source": [
    "#datatype conversion\n",
    "#it is the process of conversion of one type of data into another\n",
    "#it is applicable for int to float,float to int,int to complex,float to complex\n",
    "#it is not possible for int/float to complex,complex to int/float,int/float to string and for string to int/float,"
   ]
  },
  {
   "cell_type": "code",
   "execution_count": 28,
   "id": "3db6f728-1c89-4a32-96be-eca10f152385",
   "metadata": {},
   "outputs": [
    {
     "name": "stdout",
     "output_type": "stream",
     "text": [
      "78\n"
     ]
    },
    {
     "data": {
      "text/plain": [
       "int"
      ]
     },
     "execution_count": 28,
     "metadata": {},
     "output_type": "execute_result"
    }
   ],
   "source": [
    "a=int(78.34)\n",
    "print(a)\n",
    "type(a)"
   ]
  },
  {
   "cell_type": "code",
   "execution_count": 29,
   "id": "8f476668-67a2-4540-889d-29e61bbb0408",
   "metadata": {},
   "outputs": [
    {
     "name": "stdout",
     "output_type": "stream",
     "text": [
      "65.0\n"
     ]
    },
    {
     "data": {
      "text/plain": [
       "float"
      ]
     },
     "execution_count": 29,
     "metadata": {},
     "output_type": "execute_result"
    }
   ],
   "source": [
    "a=float(65)\n",
    "print(a)\n",
    "type(a)"
   ]
  },
  {
   "cell_type": "code",
   "execution_count": 30,
   "id": "ead00c5e-f4c2-4e43-a291-b3561039f8dc",
   "metadata": {},
   "outputs": [
    {
     "name": "stdout",
     "output_type": "stream",
     "text": [
      "(52+0j)\n"
     ]
    },
    {
     "data": {
      "text/plain": [
       "complex"
      ]
     },
     "execution_count": 30,
     "metadata": {},
     "output_type": "execute_result"
    }
   ],
   "source": [
    "a=complex(52)\n",
    "print(a)\n",
    "type(a)\n"
   ]
  },
  {
   "cell_type": "code",
   "execution_count": 31,
   "id": "2d2d7a6f-ec54-4aa8-ac49-6d1a26332e6a",
   "metadata": {},
   "outputs": [
    {
     "name": "stdout",
     "output_type": "stream",
     "text": [
      "(67.88+0j)\n"
     ]
    },
    {
     "data": {
      "text/plain": [
       "complex"
      ]
     },
     "execution_count": 31,
     "metadata": {},
     "output_type": "execute_result"
    }
   ],
   "source": [
    "b=complex(67.88)\n",
    "print(b)\n",
    "type(b)"
   ]
  },
  {
   "cell_type": "code",
   "execution_count": 33,
   "id": "6e218f96-40c2-4c60-8611-64d4bb63a52d",
   "metadata": {},
   "outputs": [
    {
     "name": "stdout",
     "output_type": "stream",
     "text": [
      "93\n"
     ]
    }
   ],
   "source": [
    "#to pick random integer number from a range of numbers we use 'randrange'\n",
    "\n",
    "import random\n",
    "print(random.randrange(1,100))\n"
   ]
  },
  {
   "cell_type": "code",
   "execution_count": 35,
   "id": "94d446b9-7713-48fc-b057-de22f8220e2c",
   "metadata": {},
   "outputs": [
    {
     "name": "stdout",
     "output_type": "stream",
     "text": [
      "43.0\n"
     ]
    },
    {
     "data": {
      "text/plain": [
       "float"
      ]
     },
     "execution_count": 35,
     "metadata": {},
     "output_type": "execute_result"
    }
   ],
   "source": [
    "#using randrange give the output as decimal/float number\n",
    "\n",
    "import random\n",
    "variable=float(random.randrange(1,55))\n",
    "print(variable)\n",
    "type(variable)\n"
   ]
  },
  {
   "cell_type": "code",
   "execution_count": 41,
   "id": "d228d9c2-ad16-4dcb-8efc-9683ea58920a",
   "metadata": {},
   "outputs": [
    {
     "name": "stdout",
     "output_type": "stream",
     "text": [
      "0.8470013854483723\n"
     ]
    }
   ],
   "source": [
    "#to pick a random floating/decimal then we use 'random' function itself\n",
    "#here we cannot define the argument list i.e range of digits\n",
    "\n",
    "import random\n",
    "print(random.random())\n"
   ]
  },
  {
   "cell_type": "code",
   "execution_count": 44,
   "id": "07a6244d-394f-41d1-bcc0-95ba2ee25aed",
   "metadata": {},
   "outputs": [
    {
     "name": "stdout",
     "output_type": "stream",
     "text": [
      "0\n"
     ]
    },
    {
     "data": {
      "text/plain": [
       "int"
      ]
     },
     "execution_count": 44,
     "metadata": {},
     "output_type": "execute_result"
    }
   ],
   "source": [
    "#using random give an output as integer\n",
    "\n",
    "import random\n",
    "c=int(random.random())\n",
    "print(c)\n",
    "type(c)"
   ]
  },
  {
   "cell_type": "code",
   "execution_count": null,
   "id": "c891f314-c8d7-4952-8112-7f774d9e183b",
   "metadata": {},
   "outputs": [],
   "source": []
  }
 ],
 "metadata": {
  "kernelspec": {
   "display_name": "Python 3 (ipykernel)",
   "language": "python",
   "name": "python3"
  },
  "language_info": {
   "codemirror_mode": {
    "name": "ipython",
    "version": 3
   },
   "file_extension": ".py",
   "mimetype": "text/x-python",
   "name": "python",
   "nbconvert_exporter": "python",
   "pygments_lexer": "ipython3",
   "version": "3.11.7"
  }
 },
 "nbformat": 4,
 "nbformat_minor": 5
}
